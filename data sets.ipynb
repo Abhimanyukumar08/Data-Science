{
    "cells": [
        {
            "cell_type": "code",
            "execution_count": 1,
            "metadata": {},
            "outputs": [
                {
                    "data": {
                        "text/html": "<div>\n<style scoped>\n    .dataframe tbody tr th:only-of-type {\n        vertical-align: middle;\n    }\n\n    .dataframe tbody tr th {\n        vertical-align: top;\n    }\n\n    .dataframe thead th {\n        text-align: right;\n    }\n</style>\n<table border=\"1\" class=\"dataframe\">\n  <thead>\n    <tr style=\"text-align: right;\">\n      <th></th>\n      <th>Teacher ID</th>\n      <th>Teacher Prefix</th>\n      <th>Teacher First Project Posted Date</th>\n    </tr>\n  </thead>\n  <tbody>\n    <tr>\n      <th>0</th>\n      <td>00000f7264c27ba6fea0c837ed6aa0aa</td>\n      <td>Mrs.</td>\n      <td>2013-08-21</td>\n    </tr>\n    <tr>\n      <th>1</th>\n      <td>00002d44003ed46b066607c5455a999a</td>\n      <td>Mrs.</td>\n      <td>2016-10-23</td>\n    </tr>\n    <tr>\n      <th>2</th>\n      <td>00006084c3d92d904a22e0a70f5c119a</td>\n      <td>Mr.</td>\n      <td>2016-09-08</td>\n    </tr>\n    <tr>\n      <th>3</th>\n      <td>0000a9af8b6b9cc9e41f53322a8b8cf1</td>\n      <td>Ms.</td>\n      <td>2015-10-25</td>\n    </tr>\n    <tr>\n      <th>4</th>\n      <td>0000d4777d14b33a1406dd6c9019fe89</td>\n      <td>Ms.</td>\n      <td>2017-02-10</td>\n    </tr>\n    <tr>\n      <th>...</th>\n      <td>...</td>\n      <td>...</td>\n      <td>...</td>\n    </tr>\n    <tr>\n      <th>95</th>\n      <td>000ee34f30d9aff3a6e17fcf27ba1eda</td>\n      <td>Ms.</td>\n      <td>2016-04-24</td>\n    </tr>\n    <tr>\n      <th>96</th>\n      <td>000f37ea0ef849b35a35ccca4a4d4304</td>\n      <td>Mrs.</td>\n      <td>2016-07-28</td>\n    </tr>\n    <tr>\n      <th>97</th>\n      <td>000f4457f231fdbd7751b0e46ae74882</td>\n      <td>Mrs.</td>\n      <td>2013-09-14</td>\n    </tr>\n    <tr>\n      <th>98</th>\n      <td>000f4a15645dcd6965e0de3bdc315e4a</td>\n      <td>Mrs.</td>\n      <td>2018-04-16</td>\n    </tr>\n    <tr>\n      <th>99</th>\n      <td>000f5e697008316ab0c50bc16d1a561a</td>\n      <td>Mr.</td>\n      <td>2017-04-26</td>\n    </tr>\n  </tbody>\n</table>\n<p>100 rows \u00d7 3 columns</p>\n</div>",
                        "text/plain": "                          Teacher ID Teacher Prefix  \\\n0   00000f7264c27ba6fea0c837ed6aa0aa           Mrs.   \n1   00002d44003ed46b066607c5455a999a           Mrs.   \n2   00006084c3d92d904a22e0a70f5c119a            Mr.   \n3   0000a9af8b6b9cc9e41f53322a8b8cf1            Ms.   \n4   0000d4777d14b33a1406dd6c9019fe89            Ms.   \n..                               ...            ...   \n95  000ee34f30d9aff3a6e17fcf27ba1eda            Ms.   \n96  000f37ea0ef849b35a35ccca4a4d4304           Mrs.   \n97  000f4457f231fdbd7751b0e46ae74882           Mrs.   \n98  000f4a15645dcd6965e0de3bdc315e4a           Mrs.   \n99  000f5e697008316ab0c50bc16d1a561a            Mr.   \n\n   Teacher First Project Posted Date  \n0                         2013-08-21  \n1                         2016-10-23  \n2                         2016-09-08  \n3                         2015-10-25  \n4                         2017-02-10  \n..                               ...  \n95                        2016-04-24  \n96                        2016-07-28  \n97                        2013-09-14  \n98                        2018-04-16  \n99                        2017-04-26  \n\n[100 rows x 3 columns]"
                    },
                    "execution_count": 1,
                    "metadata": {},
                    "output_type": "execute_result"
                }
            ],
            "source": "# The code was removed by Watson Studio for sharing."
        },
        {
            "cell_type": "code",
            "execution_count": null,
            "metadata": {},
            "outputs": [],
            "source": ""
        }
    ],
    "metadata": {
        "kernelspec": {
            "display_name": "Python 3.8",
            "language": "python",
            "name": "python3"
        },
        "language_info": {
            "codemirror_mode": {
                "name": "ipython",
                "version": 3
            },
            "file_extension": ".py",
            "mimetype": "text/x-python",
            "name": "python",
            "nbconvert_exporter": "python",
            "pygments_lexer": "ipython3",
            "version": "3.8.11"
        }
    },
    "nbformat": 4,
    "nbformat_minor": 1
}